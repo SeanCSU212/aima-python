{
 "cells": [
  {
   "cell_type": "code",
   "id": "c1fe5fa9-b19d-4214-b171-e8f8a1538151",
   "metadata": {
    "jupyter": {
     "is_executing": true
    }
   },
   "source": [
    "from agents import LabOneEnv, HillClimber"
   ],
   "outputs": [],
   "execution_count": null
  },
  {
   "metadata": {},
   "cell_type": "code",
   "outputs": [],
   "execution_count": null,
   "source": [
    "env = LabOneEnv()\n",
    "agent = HillClimber((3, 3))\n",
    "env.setup_env_1(agent)\n",
    "env.status()\n",
    "env.step(15)\n",
    "print(f\"Agent performance: {agent.performance}\")\n"
   ],
   "id": "1f2dcdca92e8645f"
  },
  {
   "metadata": {},
   "cell_type": "code",
   "outputs": [],
   "execution_count": null,
   "source": "",
   "id": "be838a7de98f0e9"
  }
 ],
 "metadata": {
  "kernelspec": {
   "display_name": "Python 3 (ipykernel)",
   "language": "python",
   "name": "python3"
  },
  "language_info": {
   "codemirror_mode": {
    "name": "ipython",
    "version": 3
   },
   "file_extension": ".py",
   "mimetype": "text/x-python",
   "name": "python",
   "nbconvert_exporter": "python",
   "pygments_lexer": "ipython3",
   "version": "3.10.5"
  }
 },
 "nbformat": 4,
 "nbformat_minor": 5
}
